{
 "cells": [
  {
   "cell_type": "code",
   "execution_count": 1,
   "metadata": {
    "collapsed": true
   },
   "outputs": [],
   "source": [
    "#imports \n",
    "import pandas as pd \n",
    "import numpy as np"
   ]
  },
  {
   "cell_type": "markdown",
   "metadata": {},
   "source": [
    "## Lecture du datasets"
   ]
  },
  {
   "cell_type": "code",
   "execution_count": 2,
   "metadata": {},
   "outputs": [],
   "source": [
    "xcal = pd.read_csv(\"Xcal.csv\")\n",
    "ycal = pd.read_csv(\"Ycal.csv\")"
   ]
  },
  {
   "cell_type": "code",
   "execution_count": 3,
   "metadata": {},
   "outputs": [
    {
     "data": {
      "text/plain": [
       "(203, 1154)"
      ]
     },
     "execution_count": 3,
     "metadata": {},
     "output_type": "execute_result"
    }
   ],
   "source": [
    "xcal.shape"
   ]
  },
  {
   "cell_type": "markdown",
   "metadata": {},
   "source": [
    "##### imports des librairies et chargement du jeux de donnees"
   ]
  },
  {
   "cell_type": "code",
   "execution_count": 4,
   "metadata": {},
   "outputs": [
    {
     "name": "stderr",
     "output_type": "stream",
     "text": [
      "/home/djilan/anaconda3/lib/python3.6/site-packages/tensorflow/python/framework/dtypes.py:523: FutureWarning: Passing (type, 1) or '1type' as a synonym of type is deprecated; in a future version of numpy, it will be understood as (type, (1,)) / '(1,)type'.\n",
      "  _np_qint8 = np.dtype([(\"qint8\", np.int8, 1)])\n",
      "/home/djilan/anaconda3/lib/python3.6/site-packages/tensorflow/python/framework/dtypes.py:524: FutureWarning: Passing (type, 1) or '1type' as a synonym of type is deprecated; in a future version of numpy, it will be understood as (type, (1,)) / '(1,)type'.\n",
      "  _np_quint8 = np.dtype([(\"quint8\", np.uint8, 1)])\n",
      "/home/djilan/anaconda3/lib/python3.6/site-packages/tensorflow/python/framework/dtypes.py:525: FutureWarning: Passing (type, 1) or '1type' as a synonym of type is deprecated; in a future version of numpy, it will be understood as (type, (1,)) / '(1,)type'.\n",
      "  _np_qint16 = np.dtype([(\"qint16\", np.int16, 1)])\n",
      "/home/djilan/anaconda3/lib/python3.6/site-packages/tensorflow/python/framework/dtypes.py:526: FutureWarning: Passing (type, 1) or '1type' as a synonym of type is deprecated; in a future version of numpy, it will be understood as (type, (1,)) / '(1,)type'.\n",
      "  _np_quint16 = np.dtype([(\"quint16\", np.uint16, 1)])\n",
      "/home/djilan/anaconda3/lib/python3.6/site-packages/tensorflow/python/framework/dtypes.py:527: FutureWarning: Passing (type, 1) or '1type' as a synonym of type is deprecated; in a future version of numpy, it will be understood as (type, (1,)) / '(1,)type'.\n",
      "  _np_qint32 = np.dtype([(\"qint32\", np.int32, 1)])\n",
      "/home/djilan/anaconda3/lib/python3.6/site-packages/tensorflow/python/framework/dtypes.py:532: FutureWarning: Passing (type, 1) or '1type' as a synonym of type is deprecated; in a future version of numpy, it will be understood as (type, (1,)) / '(1,)type'.\n",
      "  np_resource = np.dtype([(\"resource\", np.ubyte, 1)])\n",
      "/home/djilan/anaconda3/lib/python3.6/site-packages/h5py/__init__.py:34: FutureWarning: Conversion of the second argument of issubdtype from `float` to `np.floating` is deprecated. In future, it will be treated as `np.float64 == np.dtype(float).type`.\n",
      "  from ._conv import register_converters as _register_converters\n",
      "Using TensorFlow backend.\n",
      "/home/djilan/anaconda3/lib/python3.6/site-packages/sklearn/ensemble/weight_boosting.py:29: DeprecationWarning: numpy.core.umath_tests is an internal NumPy module and should not be imported. It will be removed in a future NumPy release.\n",
      "  from numpy.core.umath_tests import inner1d\n"
     ]
    }
   ],
   "source": [
    "import sklearn as sk\n",
    "import pandas as pd\n",
    "import numpy as np\n",
    "import seaborn as sns\n",
    "import matplotlib.pyplot as plt\n",
    "import tensorflow as tf\n",
    "from tensorflow.examples.tutorials.mnist import input_data\n",
    "from sklearn.manifold import LocallyLinearEmbedding\n",
    "from sklearn.decomposition import PCA\n",
    "from sklearn.decomposition import IncrementalPCA\n",
    "from sklearn.decomposition import KernelPCA\n",
    "from sklearn.decomposition import SparsePCA\n",
    "from sklearn.manifold import MDS\n",
    "from sklearn.manifold import Isomap\n",
    "from sklearn.manifold import TSNE\n",
    "from sklearn.decomposition import TruncatedSVD\n",
    "from sklearn.random_projection import GaussianRandomProjection\n",
    "from sklearn.decomposition import FastICA\n",
    "from sklearn.decomposition import MiniBatchDictionaryLearning\n",
    "from sklearn.random_projection import SparseRandomProjection\n",
    "from sklearn.metrics import r2_score\n",
    "import keras\n",
    "from keras.models import Sequential, Model\n",
    "from keras.layers import Dense\n",
    "from keras.optimizers import Adam\n",
    "from sklearn.model_selection import KFold\n",
    "from sklearn.metrics import fbeta_score, make_scorer\n",
    "from sklearn.model_selection import cross_val_score\n",
    "import pandas as pd  \n",
    "import numpy as np  \n",
    "import matplotlib.pyplot as plt  \n",
    "import seaborn as seabornInstance \n",
    "from sklearn.model_selection import train_test_split \n",
    "from sklearn.linear_model import LinearRegression,LogisticRegression,Ridge,BayesianRidge,HuberRegressor,Lasso\n",
    "from sklearn import metrics\n",
    "from sklearn.ensemble import BaggingRegressor,RandomForestRegressor,AdaBoostRegressor\n",
    "from sklearn import svm\n",
    "%matplotlib inline"
   ]
  },
  {
   "cell_type": "code",
   "execution_count": 5,
   "metadata": {
    "collapsed": true
   },
   "outputs": [],
   "source": [
    "X = pd.read_csv(\"Xcal.csv\")\n",
    "y = pd.read_csv(\"Ycal.csv\")\n"
   ]
  },
  {
   "cell_type": "markdown",
   "metadata": {},
   "source": [
    "# Analyse exploratoire"
   ]
  },
  {
   "cell_type": "code",
   "execution_count": 6,
   "metadata": {},
   "outputs": [
    {
     "data": {
      "text/html": [
       "<div>\n",
       "<style>\n",
       "    .dataframe thead tr:only-child th {\n",
       "        text-align: right;\n",
       "    }\n",
       "\n",
       "    .dataframe thead th {\n",
       "        text-align: left;\n",
       "    }\n",
       "\n",
       "    .dataframe tbody tr th {\n",
       "        vertical-align: top;\n",
       "    }\n",
       "</style>\n",
       "<table border=\"1\" class=\"dataframe\">\n",
       "  <thead>\n",
       "    <tr style=\"text-align: right;\">\n",
       "      <th></th>\n",
       "      <th>V1</th>\n",
       "    </tr>\n",
       "  </thead>\n",
       "  <tbody>\n",
       "    <tr>\n",
       "      <th>0</th>\n",
       "      <td>18.50</td>\n",
       "    </tr>\n",
       "    <tr>\n",
       "      <th>1</th>\n",
       "      <td>17.56</td>\n",
       "    </tr>\n",
       "    <tr>\n",
       "      <th>2</th>\n",
       "      <td>17.56</td>\n",
       "    </tr>\n",
       "    <tr>\n",
       "      <th>3</th>\n",
       "      <td>17.64</td>\n",
       "    </tr>\n",
       "    <tr>\n",
       "      <th>4</th>\n",
       "      <td>25.64</td>\n",
       "    </tr>\n",
       "  </tbody>\n",
       "</table>\n",
       "</div>"
      ],
      "text/plain": [
       "      V1\n",
       "0  18.50\n",
       "1  17.56\n",
       "2  17.56\n",
       "3  17.64\n",
       "4  25.64"
      ]
     },
     "execution_count": 6,
     "metadata": {},
     "output_type": "execute_result"
    }
   ],
   "source": [
    "y.head(5)"
   ]
  },
  {
   "cell_type": "code",
   "execution_count": 7,
   "metadata": {},
   "outputs": [
    {
     "data": {
      "text/plain": [
       "((203, 1154), (203, 1))"
      ]
     },
     "execution_count": 7,
     "metadata": {},
     "output_type": "execute_result"
    }
   ],
   "source": [
    "X.shape, y.shape"
   ]
  },
  {
   "cell_type": "code",
   "execution_count": 8,
   "metadata": {
    "scrolled": true
   },
   "outputs": [
    {
     "data": {
      "text/html": [
       "<div>\n",
       "<style>\n",
       "    .dataframe thead tr:only-child th {\n",
       "        text-align: right;\n",
       "    }\n",
       "\n",
       "    .dataframe thead th {\n",
       "        text-align: left;\n",
       "    }\n",
       "\n",
       "    .dataframe tbody tr th {\n",
       "        vertical-align: top;\n",
       "    }\n",
       "</style>\n",
       "<table border=\"1\" class=\"dataframe\">\n",
       "  <thead>\n",
       "    <tr style=\"text-align: right;\">\n",
       "      <th></th>\n",
       "      <th>3595</th>\n",
       "      <th>3603</th>\n",
       "      <th>3610</th>\n",
       "      <th>3618</th>\n",
       "      <th>3626</th>\n",
       "      <th>3633</th>\n",
       "      <th>3641</th>\n",
       "      <th>3649</th>\n",
       "      <th>3657</th>\n",
       "      <th>3664</th>\n",
       "      <th>...</th>\n",
       "      <th>12420</th>\n",
       "      <th>12428</th>\n",
       "      <th>12436</th>\n",
       "      <th>12443</th>\n",
       "      <th>12451</th>\n",
       "      <th>12459</th>\n",
       "      <th>12466</th>\n",
       "      <th>12474</th>\n",
       "      <th>12482</th>\n",
       "      <th>12490</th>\n",
       "    </tr>\n",
       "  </thead>\n",
       "  <tbody>\n",
       "    <tr>\n",
       "      <th>count</th>\n",
       "      <td>203.000000</td>\n",
       "      <td>203.000000</td>\n",
       "      <td>203.000000</td>\n",
       "      <td>203.000000</td>\n",
       "      <td>203.000000</td>\n",
       "      <td>203.000000</td>\n",
       "      <td>203.000000</td>\n",
       "      <td>203.000000</td>\n",
       "      <td>203.000000</td>\n",
       "      <td>203.000000</td>\n",
       "      <td>...</td>\n",
       "      <td>203.000000</td>\n",
       "      <td>203.000000</td>\n",
       "      <td>203.000000</td>\n",
       "      <td>203.000000</td>\n",
       "      <td>203.000000</td>\n",
       "      <td>203.000000</td>\n",
       "      <td>203.000000</td>\n",
       "      <td>203.000000</td>\n",
       "      <td>203.000000</td>\n",
       "      <td>203.000000</td>\n",
       "    </tr>\n",
       "    <tr>\n",
       "      <th>mean</th>\n",
       "      <td>0.108064</td>\n",
       "      <td>0.107982</td>\n",
       "      <td>0.107854</td>\n",
       "      <td>0.107662</td>\n",
       "      <td>0.107417</td>\n",
       "      <td>0.107217</td>\n",
       "      <td>0.107067</td>\n",
       "      <td>0.106962</td>\n",
       "      <td>0.106936</td>\n",
       "      <td>0.106908</td>\n",
       "      <td>...</td>\n",
       "      <td>1.377466</td>\n",
       "      <td>1.438391</td>\n",
       "      <td>1.503022</td>\n",
       "      <td>1.566871</td>\n",
       "      <td>1.612789</td>\n",
       "      <td>1.644569</td>\n",
       "      <td>1.676682</td>\n",
       "      <td>1.696548</td>\n",
       "      <td>1.714735</td>\n",
       "      <td>1.720768</td>\n",
       "    </tr>\n",
       "    <tr>\n",
       "      <th>std</th>\n",
       "      <td>0.011985</td>\n",
       "      <td>0.012058</td>\n",
       "      <td>0.012075</td>\n",
       "      <td>0.012023</td>\n",
       "      <td>0.011985</td>\n",
       "      <td>0.011952</td>\n",
       "      <td>0.011883</td>\n",
       "      <td>0.011853</td>\n",
       "      <td>0.011879</td>\n",
       "      <td>0.011852</td>\n",
       "      <td>...</td>\n",
       "      <td>0.072306</td>\n",
       "      <td>0.070434</td>\n",
       "      <td>0.067640</td>\n",
       "      <td>0.063444</td>\n",
       "      <td>0.060570</td>\n",
       "      <td>0.058796</td>\n",
       "      <td>0.055888</td>\n",
       "      <td>0.053719</td>\n",
       "      <td>0.051462</td>\n",
       "      <td>0.051092</td>\n",
       "    </tr>\n",
       "    <tr>\n",
       "      <th>min</th>\n",
       "      <td>0.082476</td>\n",
       "      <td>0.082141</td>\n",
       "      <td>0.081849</td>\n",
       "      <td>0.081283</td>\n",
       "      <td>0.080916</td>\n",
       "      <td>0.081401</td>\n",
       "      <td>0.082115</td>\n",
       "      <td>0.082225</td>\n",
       "      <td>0.081756</td>\n",
       "      <td>0.081156</td>\n",
       "      <td>...</td>\n",
       "      <td>1.067905</td>\n",
       "      <td>1.120154</td>\n",
       "      <td>1.183913</td>\n",
       "      <td>1.256383</td>\n",
       "      <td>1.313332</td>\n",
       "      <td>1.362023</td>\n",
       "      <td>1.413943</td>\n",
       "      <td>1.450315</td>\n",
       "      <td>1.489286</td>\n",
       "      <td>1.526773</td>\n",
       "    </tr>\n",
       "    <tr>\n",
       "      <th>25%</th>\n",
       "      <td>0.097663</td>\n",
       "      <td>0.097765</td>\n",
       "      <td>0.097620</td>\n",
       "      <td>0.097419</td>\n",
       "      <td>0.097235</td>\n",
       "      <td>0.096964</td>\n",
       "      <td>0.096705</td>\n",
       "      <td>0.096709</td>\n",
       "      <td>0.096873</td>\n",
       "      <td>0.096951</td>\n",
       "      <td>...</td>\n",
       "      <td>1.355882</td>\n",
       "      <td>1.418051</td>\n",
       "      <td>1.482590</td>\n",
       "      <td>1.549023</td>\n",
       "      <td>1.589847</td>\n",
       "      <td>1.619583</td>\n",
       "      <td>1.653740</td>\n",
       "      <td>1.672181</td>\n",
       "      <td>1.684085</td>\n",
       "      <td>1.690797</td>\n",
       "    </tr>\n",
       "    <tr>\n",
       "      <th>50%</th>\n",
       "      <td>0.109270</td>\n",
       "      <td>0.109802</td>\n",
       "      <td>0.108936</td>\n",
       "      <td>0.108757</td>\n",
       "      <td>0.108733</td>\n",
       "      <td>0.108950</td>\n",
       "      <td>0.108911</td>\n",
       "      <td>0.108596</td>\n",
       "      <td>0.108255</td>\n",
       "      <td>0.108283</td>\n",
       "      <td>...</td>\n",
       "      <td>1.396239</td>\n",
       "      <td>1.457322</td>\n",
       "      <td>1.520651</td>\n",
       "      <td>1.580528</td>\n",
       "      <td>1.624338</td>\n",
       "      <td>1.651085</td>\n",
       "      <td>1.682133</td>\n",
       "      <td>1.698066</td>\n",
       "      <td>1.717952</td>\n",
       "      <td>1.725514</td>\n",
       "    </tr>\n",
       "    <tr>\n",
       "      <th>75%</th>\n",
       "      <td>0.116485</td>\n",
       "      <td>0.116210</td>\n",
       "      <td>0.115836</td>\n",
       "      <td>0.115619</td>\n",
       "      <td>0.115171</td>\n",
       "      <td>0.115184</td>\n",
       "      <td>0.115267</td>\n",
       "      <td>0.115208</td>\n",
       "      <td>0.114988</td>\n",
       "      <td>0.115188</td>\n",
       "      <td>...</td>\n",
       "      <td>1.419501</td>\n",
       "      <td>1.477144</td>\n",
       "      <td>1.542360</td>\n",
       "      <td>1.606639</td>\n",
       "      <td>1.651954</td>\n",
       "      <td>1.687106</td>\n",
       "      <td>1.712088</td>\n",
       "      <td>1.734644</td>\n",
       "      <td>1.751495</td>\n",
       "      <td>1.756276</td>\n",
       "    </tr>\n",
       "    <tr>\n",
       "      <th>max</th>\n",
       "      <td>0.158515</td>\n",
       "      <td>0.159758</td>\n",
       "      <td>0.160320</td>\n",
       "      <td>0.159257</td>\n",
       "      <td>0.157773</td>\n",
       "      <td>0.156988</td>\n",
       "      <td>0.156588</td>\n",
       "      <td>0.156249</td>\n",
       "      <td>0.156246</td>\n",
       "      <td>0.156423</td>\n",
       "      <td>...</td>\n",
       "      <td>1.484998</td>\n",
       "      <td>1.538788</td>\n",
       "      <td>1.597667</td>\n",
       "      <td>1.659831</td>\n",
       "      <td>1.713083</td>\n",
       "      <td>1.754015</td>\n",
       "      <td>1.795093</td>\n",
       "      <td>1.829642</td>\n",
       "      <td>1.865208</td>\n",
       "      <td>1.885559</td>\n",
       "    </tr>\n",
       "  </tbody>\n",
       "</table>\n",
       "<p>8 rows × 1154 columns</p>\n",
       "</div>"
      ],
      "text/plain": [
       "             3595        3603        3610        3618        3626        3633  \\\n",
       "count  203.000000  203.000000  203.000000  203.000000  203.000000  203.000000   \n",
       "mean     0.108064    0.107982    0.107854    0.107662    0.107417    0.107217   \n",
       "std      0.011985    0.012058    0.012075    0.012023    0.011985    0.011952   \n",
       "min      0.082476    0.082141    0.081849    0.081283    0.080916    0.081401   \n",
       "25%      0.097663    0.097765    0.097620    0.097419    0.097235    0.096964   \n",
       "50%      0.109270    0.109802    0.108936    0.108757    0.108733    0.108950   \n",
       "75%      0.116485    0.116210    0.115836    0.115619    0.115171    0.115184   \n",
       "max      0.158515    0.159758    0.160320    0.159257    0.157773    0.156988   \n",
       "\n",
       "             3641        3649        3657        3664     ...           12420  \\\n",
       "count  203.000000  203.000000  203.000000  203.000000     ...      203.000000   \n",
       "mean     0.107067    0.106962    0.106936    0.106908     ...        1.377466   \n",
       "std      0.011883    0.011853    0.011879    0.011852     ...        0.072306   \n",
       "min      0.082115    0.082225    0.081756    0.081156     ...        1.067905   \n",
       "25%      0.096705    0.096709    0.096873    0.096951     ...        1.355882   \n",
       "50%      0.108911    0.108596    0.108255    0.108283     ...        1.396239   \n",
       "75%      0.115267    0.115208    0.114988    0.115188     ...        1.419501   \n",
       "max      0.156588    0.156249    0.156246    0.156423     ...        1.484998   \n",
       "\n",
       "            12428       12436       12443       12451       12459       12466  \\\n",
       "count  203.000000  203.000000  203.000000  203.000000  203.000000  203.000000   \n",
       "mean     1.438391    1.503022    1.566871    1.612789    1.644569    1.676682   \n",
       "std      0.070434    0.067640    0.063444    0.060570    0.058796    0.055888   \n",
       "min      1.120154    1.183913    1.256383    1.313332    1.362023    1.413943   \n",
       "25%      1.418051    1.482590    1.549023    1.589847    1.619583    1.653740   \n",
       "50%      1.457322    1.520651    1.580528    1.624338    1.651085    1.682133   \n",
       "75%      1.477144    1.542360    1.606639    1.651954    1.687106    1.712088   \n",
       "max      1.538788    1.597667    1.659831    1.713083    1.754015    1.795093   \n",
       "\n",
       "            12474       12482       12490  \n",
       "count  203.000000  203.000000  203.000000  \n",
       "mean     1.696548    1.714735    1.720768  \n",
       "std      0.053719    0.051462    0.051092  \n",
       "min      1.450315    1.489286    1.526773  \n",
       "25%      1.672181    1.684085    1.690797  \n",
       "50%      1.698066    1.717952    1.725514  \n",
       "75%      1.734644    1.751495    1.756276  \n",
       "max      1.829642    1.865208    1.885559  \n",
       "\n",
       "[8 rows x 1154 columns]"
      ]
     },
     "execution_count": 8,
     "metadata": {},
     "output_type": "execute_result"
    }
   ],
   "source": [
    "X.describe()"
   ]
  },
  {
   "cell_type": "markdown",
   "metadata": {},
   "source": [
    "Visualiser la distribtion des valeurs de chaque colonne dans une graphique n'est pas possible avec la dimension actuelle. Ce tableau nous permet de conclure que la moyenne et la deviation standard sont egaux a 1e-3 pres."
   ]
  },
  {
   "cell_type": "code",
   "execution_count": 9,
   "metadata": {},
   "outputs": [
    {
     "data": {
      "text/plain": [
       "3595     0\n",
       "3603     0\n",
       "3610     0\n",
       "3618     0\n",
       "3626     0\n",
       "3633     0\n",
       "3641     0\n",
       "3649     0\n",
       "3657     0\n",
       "3664     0\n",
       "3672     0\n",
       "3680     0\n",
       "3687     0\n",
       "3695     0\n",
       "3703     0\n",
       "3711     0\n",
       "3718     0\n",
       "3726     0\n",
       "3734     0\n",
       "3741     0\n",
       "3749     0\n",
       "3757     0\n",
       "3765     0\n",
       "3772     0\n",
       "3780     0\n",
       "3788     0\n",
       "3795     0\n",
       "3803     0\n",
       "3811     0\n",
       "3819     0\n",
       "        ..\n",
       "12266    0\n",
       "12274    0\n",
       "12281    0\n",
       "12289    0\n",
       "12297    0\n",
       "12304    0\n",
       "12312    0\n",
       "12320    0\n",
       "12328    0\n",
       "12335    0\n",
       "12343    0\n",
       "12351    0\n",
       "12358    0\n",
       "12366    0\n",
       "12374    0\n",
       "12382    0\n",
       "12389    0\n",
       "12397    0\n",
       "12405    0\n",
       "12412    0\n",
       "12420    0\n",
       "12428    0\n",
       "12436    0\n",
       "12443    0\n",
       "12451    0\n",
       "12459    0\n",
       "12466    0\n",
       "12474    0\n",
       "12482    0\n",
       "12490    0\n",
       "Length: 1154, dtype: int64"
      ]
     },
     "execution_count": 9,
     "metadata": {},
     "output_type": "execute_result"
    }
   ],
   "source": [
    "X.isnull().sum()"
   ]
  },
  {
   "cell_type": "code",
   "execution_count": 10,
   "metadata": {
    "scrolled": true
   },
   "outputs": [
    {
     "name": "stderr",
     "output_type": "stream",
     "text": [
      "/home/djilan/anaconda3/lib/python3.6/site-packages/seaborn/distributions.py:214: MatplotlibDeprecationWarning: \n",
      "The 'normed' kwarg was deprecated in Matplotlib 2.1 and will be removed in 3.1. Use 'density' instead.\n",
      "  color=hist_color, **hist_kws)\n",
      "/home/djilan/anaconda3/lib/python3.6/site-packages/scipy/stats/stats.py:1633: FutureWarning: Using a non-tuple sequence for multidimensional indexing is deprecated; use `arr[tuple(seq)]` instead of `arr[seq]`. In the future this will be interpreted as an array index, `arr[np.array(seq)]`, which will result either in an error or a different result.\n",
      "  return np.add.reduce(sorted[indexer] * weights, axis=axis) / sumval\n"
     ]
    },
    {
     "data": {
      "image/png": "[encoded data removed]",
      "text/plain": [
       "<Figure size 842.4x595.44 with 1 Axes>"
      ]
     },
     "metadata": {},
     "output_type": "display_data"
    }
   ],
   "source": [
    "sns.set(rc={'figure.figsize':(11.7,8.27)})\n",
    "sns.distplot(y , bins=30)\n",
    "plt.show()"
   ]
  },
  {
   "cell_type": "markdown",
   "metadata": {},
   "source": [
    "Nous voyons que les valeurs de Y suivent une distribution normale avec quelques valeurs aberrantes"
   ]
  },
  {
   "cell_type": "markdown",
   "metadata": {},
   "source": [
    "Le but de cette etape est de comprendre notre ensemble de donnees, et decider ensuite s'il faut changer la representation et formatage de ce dernier enfin de mieux choisir le modele adequat pour resoudre le probleme. Pour y parvenir nous allons dans un premier temps appliqué quelques algorithmes puis proceder par l'Analyse en Composant Principal (ACP) et appliqué les memes algorithmes sur le resultat de l'ACP."
   ]
  },
  {
   "cell_type": "markdown",
   "metadata": {},
   "source": [
    "## Application de quelques algorithmes sur les donnees xcal pour predire ycal"
   ]
  },
  {
   "cell_type": "markdown",
   "metadata": {},
   "source": [
    "### Application de la regression lineaire sur les donnees initiales"
   ]
  },
  {
   "cell_type": "code",
   "execution_count": 11,
   "metadata": {},
   "outputs": [
    {
     "data": {
      "text/plain": [
       "LinearRegression(copy_X=True, fit_intercept=True, n_jobs=1, normalize=False)"
      ]
     },
     "execution_count": 11,
     "metadata": {},
     "output_type": "execute_result"
    }
   ],
   "source": [
    "X_train, X_test, y_train, y_test = train_test_split(xcal, y, test_size=0.3, random_state=0)\n",
    "regressor = LinearRegression()  \n",
    "regressor.fit(X_train, y_train)\n",
    "y_pred = regressor.predict(X_test)\n",
    "y_pred.shape\n",
    "from sklearn.linear_model import LinearRegression\n",
    "from sklearn.metrics import mean_squared_error\n",
    "\n",
    "lin_model = LinearRegression()\n",
    "lin_model.fit(X_train, y_train)\n"
   ]
  },
  {
   "cell_type": "code",
   "execution_count": 12,
   "metadata": {},
   "outputs": [
    {
     "name": "stdout",
     "output_type": "stream",
     "text": [
      "The model performance for training set\n",
      "--------------------------------------\n",
      "RMSE is 1.3874014282832916e-12\n",
      "R2 score is 1.0\n",
      "\n",
      "\n",
      "The model performance for testing set\n",
      "--------------------------------------\n",
      "RMSE is 3.25936063065912\n",
      "R2 score is 0.5900619673980094\n"
     ]
    }
   ],
   "source": [
    "# model evaluation for training set\n",
    "y_train_predict = lin_model.predict(X_train)\n",
    "rmse = (np.sqrt(mean_squared_error(y_train, y_train_predict)))\n",
    "r2 = r2_score(y_train, y_train_predict)\n",
    "\n",
    "print(\"The model performance for training set\")\n",
    "print(\"--------------------------------------\")\n",
    "print('RMSE is {}'.format(rmse))\n",
    "print('R2 score is {}'.format(r2))\n",
    "print(\"\\n\")\n",
    "\n",
    "# model evaluation for testing set\n",
    "y_test_predict = lin_model.predict(X_test)\n",
    "rmse = (np.sqrt(mean_squared_error(y_test, y_test_predict)))\n",
    "r2 = r2_score(y_test, y_test_predict)\n",
    "\n",
    "print(\"The model performance for testing set\")\n",
    "print(\"--------------------------------------\")\n",
    "print('RMSE is {}'.format(rmse))\n",
    "print('R2 score is {}'.format(r2))"
   ]
  },
  {
   "cell_type": "markdown",
   "metadata": {},
   "source": [
    "### Application d'autres algorithmes"
   ]
  },
  {
   "cell_type": "code",
   "execution_count": 26,
   "metadata": {
    "scrolled": false
   },
   "outputs": [
    {
     "name": "stderr",
     "output_type": "stream",
     "text": [
      "/home/djilan/anaconda3/lib/python3.6/site-packages/sklearn/utils/validation.py:547: DataConversionWarning: A column-vector y was passed when a 1d array was expected. Please change the shape of y to (n_samples, ), for example using ravel().\n",
      "  y = column_or_1d(y, warn=True)\n",
      "/home/djilan/anaconda3/lib/python3.6/site-packages/sklearn/utils/validation.py:547: DataConversionWarning: A column-vector y was passed when a 1d array was expected. Please change the shape of y to (n_samples, ), for example using ravel().\n",
      "  y = column_or_1d(y, warn=True)\n",
      "/home/djilan/anaconda3/lib/python3.6/site-packages/sklearn/utils/validation.py:547: DataConversionWarning: A column-vector y was passed when a 1d array was expected. Please change the shape of y to (n_samples, ), for example using ravel().\n",
      "  y = column_or_1d(y, warn=True)\n",
      "/home/djilan/anaconda3/lib/python3.6/site-packages/sklearn/utils/validation.py:547: DataConversionWarning: A column-vector y was passed when a 1d array was expected. Please change the shape of y to (n_samples, ), for example using ravel().\n",
      "  y = column_or_1d(y, warn=True)\n",
      "/home/djilan/anaconda3/lib/python3.6/site-packages/sklearn/utils/validation.py:547: DataConversionWarning: A column-vector y was passed when a 1d array was expected. Please change the shape of y to (n_samples, ), for example using ravel().\n",
      "  y = column_or_1d(y, warn=True)\n",
      "/home/djilan/anaconda3/lib/python3.6/site-packages/sklearn/utils/validation.py:547: DataConversionWarning: A column-vector y was passed when a 1d array was expected. Please change the shape of y to (n_samples, ), for example using ravel().\n",
      "  y = column_or_1d(y, warn=True)\n",
      "/home/djilan/anaconda3/lib/python3.6/site-packages/sklearn/utils/__init__.py:93: FutureWarning: Conversion of the second argument of issubdtype from `int` to `np.signedinteger` is deprecated. In future, it will be treated as `np.int64 == np.dtype(int).type`.\n",
      "  if np.issubdtype(mask.dtype, np.int):\n",
      "/home/djilan/anaconda3/lib/python3.6/site-packages/sklearn/utils/validation.py:547: DataConversionWarning: A column-vector y was passed when a 1d array was expected. Please change the shape of y to (n_samples, ), for example using ravel().\n",
      "  y = column_or_1d(y, warn=True)\n",
      "/home/djilan/anaconda3/lib/python3.6/site-packages/sklearn/utils/__init__.py:93: FutureWarning: Conversion of the second argument of issubdtype from `int` to `np.signedinteger` is deprecated. In future, it will be treated as `np.int64 == np.dtype(int).type`.\n",
      "  if np.issubdtype(mask.dtype, np.int):\n",
      "/home/djilan/anaconda3/lib/python3.6/site-packages/sklearn/utils/validation.py:547: DataConversionWarning: A column-vector y was passed when a 1d array was expected. Please change the shape of y to (n_samples, ), for example using ravel().\n",
      "  y = column_or_1d(y, warn=True)\n",
      "/home/djilan/anaconda3/lib/python3.6/site-packages/sklearn/utils/__init__.py:93: FutureWarning: Conversion of the second argument of issubdtype from `int` to `np.signedinteger` is deprecated. In future, it will be treated as `np.int64 == np.dtype(int).type`.\n",
      "  if np.issubdtype(mask.dtype, np.int):\n",
      "/home/djilan/anaconda3/lib/python3.6/site-packages/sklearn/utils/validation.py:547: DataConversionWarning: A column-vector y was passed when a 1d array was expected. Please change the shape of y to (n_samples, ), for example using ravel().\n",
      "  y = column_or_1d(y, warn=True)\n",
      "/home/djilan/anaconda3/lib/python3.6/site-packages/sklearn/utils/__init__.py:93: FutureWarning: Conversion of the second argument of issubdtype from `int` to `np.signedinteger` is deprecated. In future, it will be treated as `np.int64 == np.dtype(int).type`.\n",
      "  if np.issubdtype(mask.dtype, np.int):\n",
      "/home/djilan/anaconda3/lib/python3.6/site-packages/sklearn/utils/validation.py:547: DataConversionWarning: A column-vector y was passed when a 1d array was expected. Please change the shape of y to (n_samples, ), for example using ravel().\n",
      "  y = column_or_1d(y, warn=True)\n",
      "/home/djilan/anaconda3/lib/python3.6/site-packages/sklearn/utils/__init__.py:93: FutureWarning: Conversion of the second argument of issubdtype from `int` to `np.signedinteger` is deprecated. In future, it will be treated as `np.int64 == np.dtype(int).type`.\n",
      "  if np.issubdtype(mask.dtype, np.int):\n",
      "/home/djilan/anaconda3/lib/python3.6/site-packages/sklearn/linear_model/coordinate_descent.py:491: ConvergenceWarning: Objective did not converge. You might want to increase the number of iterations. Fitting data with very small alpha may cause precision problems.\n",
      "  ConvergenceWarning)\n",
      "/home/djilan/anaconda3/lib/python3.6/site-packages/sklearn/linear_model/coordinate_descent.py:491: ConvergenceWarning: Objective did not converge. You might want to increase the number of iterations. Fitting data with very small alpha may cause precision problems.\n",
      "  ConvergenceWarning)\n",
      "/home/djilan/anaconda3/lib/python3.6/site-packages/sklearn/linear_model/coordinate_descent.py:491: ConvergenceWarning: Objective did not converge. You might want to increase the number of iterations. Fitting data with very small alpha may cause precision problems.\n",
      "  ConvergenceWarning)\n",
      "/home/djilan/anaconda3/lib/python3.6/site-packages/sklearn/linear_model/coordinate_descent.py:491: ConvergenceWarning: Objective did not converge. You might want to increase the number of iterations. Fitting data with very small alpha may cause precision problems.\n",
      "  ConvergenceWarning)\n",
      "/home/djilan/anaconda3/lib/python3.6/site-packages/sklearn/linear_model/coordinate_descent.py:491: ConvergenceWarning: Objective did not converge. You might want to increase the number of iterations. Fitting data with very small alpha may cause precision problems.\n",
      "  ConvergenceWarning)\n",
      "/home/djilan/anaconda3/lib/python3.6/site-packages/sklearn/utils/validation.py:547: DataConversionWarning: A column-vector y was passed when a 1d array was expected. Please change the shape of y to (n_samples, ), for example using ravel().\n",
      "  y = column_or_1d(y, warn=True)\n",
      "/home/djilan/anaconda3/lib/python3.6/site-packages/sklearn/utils/validation.py:547: DataConversionWarning: A column-vector y was passed when a 1d array was expected. Please change the shape of y to (n_samples, ), for example using ravel().\n",
      "  y = column_or_1d(y, warn=True)\n",
      "/home/djilan/anaconda3/lib/python3.6/site-packages/sklearn/utils/validation.py:547: DataConversionWarning: A column-vector y was passed when a 1d array was expected. Please change the shape of y to (n_samples, ), for example using ravel().\n",
      "  y = column_or_1d(y, warn=True)\n",
      "/home/djilan/anaconda3/lib/python3.6/site-packages/sklearn/utils/validation.py:547: DataConversionWarning: A column-vector y was passed when a 1d array was expected. Please change the shape of y to (n_samples, ), for example using ravel().\n",
      "  y = column_or_1d(y, warn=True)\n",
      "/home/djilan/anaconda3/lib/python3.6/site-packages/sklearn/utils/validation.py:547: DataConversionWarning: A column-vector y was passed when a 1d array was expected. Please change the shape of y to (n_samples, ), for example using ravel().\n",
      "  y = column_or_1d(y, warn=True)\n",
      "/home/djilan/anaconda3/lib/python3.6/site-packages/sklearn/model_selection/_validation.py:437: DataConversionWarning: A column-vector y was passed when a 1d array was expected. Please change the shape of y to (n_samples,), for example using ravel().\n",
      "  estimator.fit(X_train, y_train, **fit_params)\n",
      "/home/djilan/anaconda3/lib/python3.6/site-packages/sklearn/model_selection/_validation.py:437: DataConversionWarning: A column-vector y was passed when a 1d array was expected. Please change the shape of y to (n_samples,), for example using ravel().\n",
      "  estimator.fit(X_train, y_train, **fit_params)\n",
      "/home/djilan/anaconda3/lib/python3.6/site-packages/sklearn/model_selection/_validation.py:437: DataConversionWarning: A column-vector y was passed when a 1d array was expected. Please change the shape of y to (n_samples,), for example using ravel().\n",
      "  estimator.fit(X_train, y_train, **fit_params)\n",
      "/home/djilan/anaconda3/lib/python3.6/site-packages/sklearn/model_selection/_validation.py:437: DataConversionWarning: A column-vector y was passed when a 1d array was expected. Please change the shape of y to (n_samples,), for example using ravel().\n",
      "  estimator.fit(X_train, y_train, **fit_params)\n"
     ]
    },
    {
     "name": "stderr",
     "output_type": "stream",
     "text": [
      "/home/djilan/anaconda3/lib/python3.6/site-packages/sklearn/model_selection/_validation.py:437: DataConversionWarning: A column-vector y was passed when a 1d array was expected. Please change the shape of y to (n_samples,), for example using ravel().\n",
      "  estimator.fit(X_train, y_train, **fit_params)\n",
      "/home/djilan/anaconda3/lib/python3.6/site-packages/sklearn/utils/validation.py:547: DataConversionWarning: A column-vector y was passed when a 1d array was expected. Please change the shape of y to (n_samples, ), for example using ravel().\n",
      "  y = column_or_1d(y, warn=True)\n",
      "/home/djilan/anaconda3/lib/python3.6/site-packages/sklearn/utils/validation.py:547: DataConversionWarning: A column-vector y was passed when a 1d array was expected. Please change the shape of y to (n_samples, ), for example using ravel().\n",
      "  y = column_or_1d(y, warn=True)\n",
      "/home/djilan/anaconda3/lib/python3.6/site-packages/sklearn/utils/validation.py:547: DataConversionWarning: A column-vector y was passed when a 1d array was expected. Please change the shape of y to (n_samples, ), for example using ravel().\n",
      "  y = column_or_1d(y, warn=True)\n",
      "/home/djilan/anaconda3/lib/python3.6/site-packages/sklearn/utils/validation.py:547: DataConversionWarning: A column-vector y was passed when a 1d array was expected. Please change the shape of y to (n_samples, ), for example using ravel().\n",
      "  y = column_or_1d(y, warn=True)\n",
      "/home/djilan/anaconda3/lib/python3.6/site-packages/sklearn/utils/validation.py:547: DataConversionWarning: A column-vector y was passed when a 1d array was expected. Please change the shape of y to (n_samples, ), for example using ravel().\n",
      "  y = column_or_1d(y, warn=True)\n",
      "/home/djilan/anaconda3/lib/python3.6/site-packages/sklearn/utils/validation.py:547: DataConversionWarning: A column-vector y was passed when a 1d array was expected. Please change the shape of y to (n_samples, ), for example using ravel().\n",
      "  y = column_or_1d(y, warn=True)\n",
      "/home/djilan/anaconda3/lib/python3.6/site-packages/sklearn/utils/validation.py:547: DataConversionWarning: A column-vector y was passed when a 1d array was expected. Please change the shape of y to (n_samples, ), for example using ravel().\n",
      "  y = column_or_1d(y, warn=True)\n",
      "/home/djilan/anaconda3/lib/python3.6/site-packages/sklearn/utils/validation.py:547: DataConversionWarning: A column-vector y was passed when a 1d array was expected. Please change the shape of y to (n_samples, ), for example using ravel().\n",
      "  y = column_or_1d(y, warn=True)\n",
      "/home/djilan/anaconda3/lib/python3.6/site-packages/sklearn/utils/validation.py:547: DataConversionWarning: A column-vector y was passed when a 1d array was expected. Please change the shape of y to (n_samples, ), for example using ravel().\n",
      "  y = column_or_1d(y, warn=True)\n",
      "/home/djilan/anaconda3/lib/python3.6/site-packages/sklearn/utils/validation.py:547: DataConversionWarning: A column-vector y was passed when a 1d array was expected. Please change the shape of y to (n_samples, ), for example using ravel().\n",
      "  y = column_or_1d(y, warn=True)\n",
      "/home/djilan/anaconda3/lib/python3.6/site-packages/sklearn/utils/validation.py:547: DataConversionWarning: A column-vector y was passed when a 1d array was expected. Please change the shape of y to (n_samples, ), for example using ravel().\n",
      "  y = column_or_1d(y, warn=True)\n",
      "/home/djilan/anaconda3/lib/python3.6/site-packages/sklearn/utils/validation.py:547: DataConversionWarning: A column-vector y was passed when a 1d array was expected. Please change the shape of y to (n_samples, ), for example using ravel().\n",
      "  y = column_or_1d(y, warn=True)\n",
      "/home/djilan/anaconda3/lib/python3.6/site-packages/sklearn/utils/validation.py:547: DataConversionWarning: A column-vector y was passed when a 1d array was expected. Please change the shape of y to (n_samples, ), for example using ravel().\n",
      "  y = column_or_1d(y, warn=True)\n",
      "/home/djilan/anaconda3/lib/python3.6/site-packages/sklearn/utils/validation.py:547: DataConversionWarning: A column-vector y was passed when a 1d array was expected. Please change the shape of y to (n_samples, ), for example using ravel().\n",
      "  y = column_or_1d(y, warn=True)\n",
      "/home/djilan/anaconda3/lib/python3.6/site-packages/sklearn/utils/validation.py:547: DataConversionWarning: A column-vector y was passed when a 1d array was expected. Please change the shape of y to (n_samples, ), for example using ravel().\n",
      "  y = column_or_1d(y, warn=True)\n"
     ]
    },
    {
     "data": {
      "text/html": [
       "<div>\n",
       "<style>\n",
       "    .dataframe thead tr:only-child th {\n",
       "        text-align: right;\n",
       "    }\n",
       "\n",
       "    .dataframe thead th {\n",
       "        text-align: left;\n",
       "    }\n",
       "\n",
       "    .dataframe tbody tr th {\n",
       "        vertical-align: top;\n",
       "    }\n",
       "</style>\n",
       "<table border=\"1\" class=\"dataframe\">\n",
       "  <thead>\n",
       "    <tr style=\"text-align: right;\">\n",
       "      <th></th>\n",
       "      <th>R Square Score</th>\n",
       "    </tr>\n",
       "  </thead>\n",
       "  <tbody>\n",
       "    <tr>\n",
       "      <th>Linear</th>\n",
       "      <td>0.523047</td>\n",
       "    </tr>\n",
       "    <tr>\n",
       "      <th>Hubber</th>\n",
       "      <td>0.198339</td>\n",
       "    </tr>\n",
       "    <tr>\n",
       "      <th>Lasso</th>\n",
       "      <td>0.147626</td>\n",
       "    </tr>\n",
       "    <tr>\n",
       "      <th>Bagging</th>\n",
       "      <td>0.136455</td>\n",
       "    </tr>\n",
       "    <tr>\n",
       "      <th>RandomForest</th>\n",
       "      <td>0.124172</td>\n",
       "    </tr>\n",
       "    <tr>\n",
       "      <th>AdaBoost</th>\n",
       "      <td>0.090481</td>\n",
       "    </tr>\n",
       "    <tr>\n",
       "      <th>Ridge</th>\n",
       "      <td>0.083191</td>\n",
       "    </tr>\n",
       "    <tr>\n",
       "      <th>Bayesian Ridge</th>\n",
       "      <td>0.034093</td>\n",
       "    </tr>\n",
       "    <tr>\n",
       "      <th>SVM Linear</th>\n",
       "      <td>-0.054660</td>\n",
       "    </tr>\n",
       "    <tr>\n",
       "      <th>SVM RBF</th>\n",
       "      <td>-0.078470</td>\n",
       "    </tr>\n",
       "  </tbody>\n",
       "</table>\n",
       "</div>"
      ],
      "text/plain": [
       "                R Square Score\n",
       "Linear                0.523047\n",
       "Hubber                0.198339\n",
       "Lasso                 0.147626\n",
       "Bagging               0.136455\n",
       "RandomForest          0.124172\n",
       "AdaBoost              0.090481\n",
       "Ridge                 0.083191\n",
       "Bayesian Ridge        0.034093\n",
       "SVM Linear           -0.054660\n",
       "SVM RBF              -0.078470"
      ]
     },
     "execution_count": 26,
     "metadata": {},
     "output_type": "execute_result"
    },
    {
     "data": {
      "image/png": "[encoded data removed]",
      "text/plain": [
       "<Figure size 842.4x595.44 with 1 Axes>"
      ]
     },
     "metadata": {},
     "output_type": "display_data"
    }
   ],
   "source": [
    "X_train, X_test, y_train, y_test = train_test_split(xcal, y, test_size=0.3, random_state=0)\n",
    "lets_try(X_train,y_train)"
   ]
  },
  {
   "cell_type": "markdown",
   "metadata": {},
   "source": [
    "Le nombre d'entree de notre ensemble de donnees est inferieur au nombre de colonne, ce qui affectera en quelques sortes la qualite des resultats. Afin d'y remedier, on peut faire une analyse en composant principal afin de reduire la dimension voir si ca nous permeter d'ameliorer la performance de nos modeles."
   ]
  },
  {
   "cell_type": "markdown",
   "metadata": {},
   "source": [
    "# Analyse en Composant Principal"
   ]
  },
  {
   "cell_type": "markdown",
   "metadata": {},
   "source": [
    "### Reduction de la taille des donnees"
   ]
  },
  {
   "cell_type": "code",
   "execution_count": 14,
   "metadata": {
    "collapsed": true
   },
   "outputs": [],
   "source": [
    "pca = PCA(n_components=60, whiten = False, random_state = 2019)\n",
    "X_pca = pca.fit_transform(X)\n",
    "X_pca_reconst = pca.inverse_transform(X_pca)"
   ]
  },
  {
   "cell_type": "code",
   "execution_count": 15,
   "metadata": {},
   "outputs": [
    {
     "data": {
      "text/html": [
       "<div>\n",
       "<style>\n",
       "    .dataframe thead tr:only-child th {\n",
       "        text-align: right;\n",
       "    }\n",
       "\n",
       "    .dataframe thead th {\n",
       "        text-align: left;\n",
       "    }\n",
       "\n",
       "    .dataframe tbody tr th {\n",
       "        vertical-align: top;\n",
       "    }\n",
       "</style>\n",
       "<table border=\"1\" class=\"dataframe\">\n",
       "  <thead>\n",
       "    <tr style=\"text-align: right;\">\n",
       "      <th></th>\n",
       "      <th>0</th>\n",
       "      <th>1</th>\n",
       "      <th>2</th>\n",
       "      <th>3</th>\n",
       "      <th>4</th>\n",
       "      <th>5</th>\n",
       "      <th>6</th>\n",
       "      <th>7</th>\n",
       "      <th>8</th>\n",
       "      <th>9</th>\n",
       "      <th>...</th>\n",
       "      <th>193</th>\n",
       "      <th>194</th>\n",
       "      <th>195</th>\n",
       "      <th>196</th>\n",
       "      <th>197</th>\n",
       "      <th>198</th>\n",
       "      <th>199</th>\n",
       "      <th>200</th>\n",
       "      <th>201</th>\n",
       "      <th>202</th>\n",
       "    </tr>\n",
       "  </thead>\n",
       "  <tbody>\n",
       "    <tr>\n",
       "      <th>0</th>\n",
       "      <td>0.296177</td>\n",
       "      <td>-0.267972</td>\n",
       "      <td>-0.000517</td>\n",
       "      <td>0.095402</td>\n",
       "      <td>-0.047328</td>\n",
       "      <td>-0.037336</td>\n",
       "      <td>0.012925</td>\n",
       "      <td>-0.014715</td>\n",
       "      <td>0.015163</td>\n",
       "      <td>0.014768</td>\n",
       "      <td>...</td>\n",
       "      <td>-0.000068</td>\n",
       "      <td>-0.000069</td>\n",
       "      <td>-0.000267</td>\n",
       "      <td>-0.000007</td>\n",
       "      <td>1.310021e-15</td>\n",
       "      <td>4.829208e-21</td>\n",
       "      <td>6.266833e-22</td>\n",
       "      <td>8.501680e-22</td>\n",
       "      <td>4.736353e-22</td>\n",
       "      <td>7.485216e-22</td>\n",
       "    </tr>\n",
       "    <tr>\n",
       "      <th>1</th>\n",
       "      <td>0.477501</td>\n",
       "      <td>-0.267113</td>\n",
       "      <td>0.037474</td>\n",
       "      <td>0.107857</td>\n",
       "      <td>-0.029541</td>\n",
       "      <td>0.000028</td>\n",
       "      <td>0.009138</td>\n",
       "      <td>-0.001270</td>\n",
       "      <td>-0.007317</td>\n",
       "      <td>0.009462</td>\n",
       "      <td>...</td>\n",
       "      <td>-0.000166</td>\n",
       "      <td>0.000121</td>\n",
       "      <td>0.000107</td>\n",
       "      <td>0.000037</td>\n",
       "      <td>1.310021e-15</td>\n",
       "      <td>4.829208e-21</td>\n",
       "      <td>6.266833e-22</td>\n",
       "      <td>8.501680e-22</td>\n",
       "      <td>4.736353e-22</td>\n",
       "      <td>7.485216e-22</td>\n",
       "    </tr>\n",
       "    <tr>\n",
       "      <th>2</th>\n",
       "      <td>0.573909</td>\n",
       "      <td>-0.137616</td>\n",
       "      <td>0.011708</td>\n",
       "      <td>0.067780</td>\n",
       "      <td>0.006964</td>\n",
       "      <td>0.002714</td>\n",
       "      <td>0.024517</td>\n",
       "      <td>-0.008528</td>\n",
       "      <td>-0.015897</td>\n",
       "      <td>0.004428</td>\n",
       "      <td>...</td>\n",
       "      <td>-0.000040</td>\n",
       "      <td>0.000276</td>\n",
       "      <td>0.000105</td>\n",
       "      <td>-0.000091</td>\n",
       "      <td>1.310021e-15</td>\n",
       "      <td>4.829208e-21</td>\n",
       "      <td>6.266833e-22</td>\n",
       "      <td>8.501680e-22</td>\n",
       "      <td>4.736353e-22</td>\n",
       "      <td>7.485216e-22</td>\n",
       "    </tr>\n",
       "    <tr>\n",
       "      <th>3</th>\n",
       "      <td>0.382203</td>\n",
       "      <td>-0.236422</td>\n",
       "      <td>0.008755</td>\n",
       "      <td>0.108202</td>\n",
       "      <td>-0.042319</td>\n",
       "      <td>-0.012260</td>\n",
       "      <td>-0.011443</td>\n",
       "      <td>-0.013093</td>\n",
       "      <td>0.015450</td>\n",
       "      <td>0.006778</td>\n",
       "      <td>...</td>\n",
       "      <td>-0.000027</td>\n",
       "      <td>0.000185</td>\n",
       "      <td>0.000147</td>\n",
       "      <td>0.000054</td>\n",
       "      <td>1.310021e-15</td>\n",
       "      <td>4.829208e-21</td>\n",
       "      <td>6.266833e-22</td>\n",
       "      <td>8.501680e-22</td>\n",
       "      <td>4.736353e-22</td>\n",
       "      <td>7.485216e-22</td>\n",
       "    </tr>\n",
       "    <tr>\n",
       "      <th>4</th>\n",
       "      <td>0.844292</td>\n",
       "      <td>-0.220572</td>\n",
       "      <td>0.026406</td>\n",
       "      <td>0.070212</td>\n",
       "      <td>0.011319</td>\n",
       "      <td>-0.014139</td>\n",
       "      <td>0.001579</td>\n",
       "      <td>-0.015696</td>\n",
       "      <td>-0.014774</td>\n",
       "      <td>-0.006168</td>\n",
       "      <td>...</td>\n",
       "      <td>0.000094</td>\n",
       "      <td>0.000281</td>\n",
       "      <td>-0.000235</td>\n",
       "      <td>0.000263</td>\n",
       "      <td>1.310021e-15</td>\n",
       "      <td>4.829208e-21</td>\n",
       "      <td>6.266833e-22</td>\n",
       "      <td>8.501680e-22</td>\n",
       "      <td>4.736353e-22</td>\n",
       "      <td>7.485216e-22</td>\n",
       "    </tr>\n",
       "  </tbody>\n",
       "</table>\n",
       "<p>5 rows × 203 columns</p>\n",
       "</div>"
      ],
      "text/plain": [
       "        0         1         2         3         4         5         6    \\\n",
       "0  0.296177 -0.267972 -0.000517  0.095402 -0.047328 -0.037336  0.012925   \n",
       "1  0.477501 -0.267113  0.037474  0.107857 -0.029541  0.000028  0.009138   \n",
       "2  0.573909 -0.137616  0.011708  0.067780  0.006964  0.002714  0.024517   \n",
       "3  0.382203 -0.236422  0.008755  0.108202 -0.042319 -0.012260 -0.011443   \n",
       "4  0.844292 -0.220572  0.026406  0.070212  0.011319 -0.014139  0.001579   \n",
       "\n",
       "        7         8         9        ...            193       194       195  \\\n",
       "0 -0.014715  0.015163  0.014768      ...      -0.000068 -0.000069 -0.000267   \n",
       "1 -0.001270 -0.007317  0.009462      ...      -0.000166  0.000121  0.000107   \n",
       "2 -0.008528 -0.015897  0.004428      ...      -0.000040  0.000276  0.000105   \n",
       "3 -0.013093  0.015450  0.006778      ...      -0.000027  0.000185  0.000147   \n",
       "4 -0.015696 -0.014774 -0.006168      ...       0.000094  0.000281 -0.000235   \n",
       "\n",
       "        196           197           198           199           200  \\\n",
       "0 -0.000007  1.310021e-15  4.829208e-21  6.266833e-22  8.501680e-22   \n",
       "1  0.000037  1.310021e-15  4.829208e-21  6.266833e-22  8.501680e-22   \n",
       "2 -0.000091  1.310021e-15  4.829208e-21  6.266833e-22  8.501680e-22   \n",
       "3  0.000054  1.310021e-15  4.829208e-21  6.266833e-22  8.501680e-22   \n",
       "4  0.000263  1.310021e-15  4.829208e-21  6.266833e-22  8.501680e-22   \n",
       "\n",
       "            201           202  \n",
       "0  4.736353e-22  7.485216e-22  \n",
       "1  4.736353e-22  7.485216e-22  \n",
       "2  4.736353e-22  7.485216e-22  \n",
       "3  4.736353e-22  7.485216e-22  \n",
       "4  4.736353e-22  7.485216e-22  \n",
       "\n",
       "[5 rows x 203 columns]"
      ]
     },
     "execution_count": 15,
     "metadata": {},
     "output_type": "execute_result"
    }
   ],
   "source": [
    "from sklearn.decomposition import PCA\n",
    "pca = PCA()\n",
    "x_pca = pca.fit_transform(X)\n",
    "x_pca = pd.DataFrame(x_pca)\n",
    "x_pca.head()"
   ]
  },
  {
   "cell_type": "code",
   "execution_count": 16,
   "metadata": {},
   "outputs": [
    {
     "data": {
      "text/plain": [
       "(203, 203)"
      ]
     },
     "execution_count": 16,
     "metadata": {},
     "output_type": "execute_result"
    }
   ],
   "source": [
    "x_pca.shape"
   ]
  },
  {
   "cell_type": "code",
   "execution_count": 17,
   "metadata": {},
   "outputs": [
    {
     "data": {
      "text/plain": [
       "array([9.33137985e-01, 4.81749755e-02, 8.79965060e-03, 4.98233810e-03,\n",
       "       2.96844885e-03, 6.81839956e-04, 3.68838741e-04, 2.27656667e-04,\n",
       "       1.83996353e-04, 1.31332454e-04, 8.09280494e-05, 7.08635156e-05,\n",
       "       3.99893408e-05, 3.43371694e-05, 2.23584087e-05, 1.23142460e-05,\n",
       "       9.43955227e-06, 7.23976201e-06, 6.11443042e-06, 4.62563069e-06,\n",
       "       2.96183142e-06, 2.63796710e-06, 2.11219610e-06, 1.97996602e-06,\n",
       "       1.94420576e-06, 1.77368503e-06, 1.70825753e-06, 1.50307186e-06,\n",
       "       1.48881331e-06, 1.37897507e-06, 1.33575640e-06, 1.22757440e-06,\n",
       "       1.20079530e-06, 1.13469123e-06, 1.08757418e-06, 1.01485826e-06,\n",
       "       9.66105831e-07, 9.23432747e-07, 8.83783639e-07, 8.30018712e-07,\n",
       "       8.02214332e-07, 7.93008893e-07, 7.72800784e-07, 7.19777640e-07,\n",
       "       7.05877700e-07, 6.83218761e-07, 6.70964326e-07, 6.24275212e-07,\n",
       "       6.06678950e-07, 5.69230193e-07, 5.58875568e-07, 5.37422446e-07,\n",
       "       5.00539681e-07, 4.94330291e-07, 4.83240807e-07, 4.68218627e-07,\n",
       "       4.36397157e-07, 4.07495295e-07, 3.90629798e-07, 3.84578875e-07,\n",
       "       3.77839885e-07, 3.62632830e-07, 3.43974439e-07, 3.42814156e-07,\n",
       "       3.23936133e-07, 3.16488827e-07, 3.07440004e-07, 2.97985202e-07,\n",
       "       2.86250662e-07, 2.80437683e-07, 2.60439209e-07, 2.57032223e-07,\n",
       "       2.47134214e-07, 2.41521223e-07, 2.33069727e-07, 2.31035212e-07,\n",
       "       2.21407256e-07, 2.16916871e-07, 2.14526944e-07, 2.05788841e-07,\n",
       "       2.04568268e-07, 1.91882056e-07, 1.86236609e-07, 1.82598105e-07,\n",
       "       1.75090931e-07, 1.74235565e-07, 1.71023130e-07, 1.69731199e-07,\n",
       "       1.65755579e-07, 1.59699763e-07, 1.53509243e-07, 1.51979435e-07,\n",
       "       1.48281611e-07, 1.42751643e-07, 1.40126370e-07, 1.36256493e-07,\n",
       "       1.29558622e-07, 1.28467985e-07, 1.23270268e-07, 1.22269653e-07,\n",
       "       1.17809269e-07, 1.14836637e-07, 1.11272899e-07, 1.08050117e-07,\n",
       "       1.06015139e-07, 1.03305323e-07, 1.01908891e-07, 9.97995562e-08,\n",
       "       9.64882852e-08, 9.42081179e-08, 9.34818592e-08, 8.70668532e-08,\n",
       "       8.45110092e-08, 8.40681782e-08, 8.12455781e-08, 7.96842217e-08,\n",
       "       7.93935319e-08, 7.67851091e-08, 7.57546096e-08, 7.22867655e-08,\n",
       "       7.18642942e-08, 6.68906882e-08, 6.60118588e-08, 6.40895969e-08,\n",
       "       6.28001830e-08, 6.16780755e-08, 6.09744848e-08, 5.96499499e-08,\n",
       "       5.83223929e-08, 5.70624503e-08, 5.41032635e-08, 5.29695028e-08,\n",
       "       5.12148491e-08, 4.97669304e-08, 4.94301449e-08, 4.75818784e-08,\n",
       "       4.67170295e-08, 4.57084353e-08, 4.48426591e-08, 4.42556723e-08,\n",
       "       4.34247534e-08, 4.31831332e-08, 4.11623753e-08, 3.99911897e-08,\n",
       "       3.88262789e-08, 3.87336744e-08, 3.67314453e-08, 3.58491059e-08,\n",
       "       3.54813129e-08, 3.37942974e-08, 3.33835040e-08, 3.27322829e-08,\n",
       "       3.14383982e-08, 3.05989269e-08, 3.03015219e-08, 3.01190955e-08,\n",
       "       2.96635564e-08, 2.88607416e-08, 2.81941893e-08, 2.71093267e-08,\n",
       "       2.66540719e-08, 2.60313286e-08, 2.55906089e-08, 2.44481119e-08,\n",
       "       2.38224252e-08, 2.33493151e-08, 2.25487466e-08, 2.17620404e-08,\n",
       "       2.15104891e-08, 2.07161519e-08, 2.04123786e-08, 1.98737419e-08,\n",
       "       1.89685439e-08, 1.87966505e-08, 1.84126281e-08, 1.78862325e-08,\n",
       "       1.75236532e-08, 1.71284543e-08, 1.66082368e-08, 1.61091488e-08,\n",
       "       1.56856270e-08, 1.49632388e-08, 1.48827119e-08, 1.39593219e-08,\n",
       "       1.37220767e-08, 1.36988361e-08, 1.31804963e-08, 1.24535579e-08,\n",
       "       1.22916390e-08, 1.20849418e-08, 1.09786410e-08, 1.07503134e-08,\n",
       "       1.05848587e-08, 1.00859838e-08, 9.51708670e-09, 8.90705766e-09,\n",
       "       8.73081222e-09, 1.77482390e-30, 1.84029019e-31, 4.92063064e-33,\n",
       "       4.92063064e-33, 4.92063064e-33, 4.92063064e-33])"
      ]
     },
     "execution_count": 17,
     "metadata": {},
     "output_type": "execute_result"
    }
   ],
   "source": [
    "explained_variance = pca.explained_variance_ratio_ \n",
    "explained_variance"
   ]
  },
  {
   "cell_type": "markdown",
   "metadata": {},
   "source": [
    "A travers cet analyse, nous devons reduire la taille de notre de jeu en sous-ensemble de variables pour représenter le même niveau d'information dans les données, ou transformer les variables en un nouvel ensemble de variables sans perdre beaucoup d'information."
   ]
  },
  {
   "cell_type": "code",
   "execution_count": 18,
   "metadata": {},
   "outputs": [
    {
     "data": {
      "text/plain": [
       "0.9901126113502279"
      ]
     },
     "execution_count": 18,
     "metadata": {},
     "output_type": "execute_result"
    }
   ],
   "source": [
    "sum(explained_variance[:3])"
   ]
  },
  {
   "cell_type": "markdown",
   "metadata": {},
   "source": [
    "Au vu de ce qui precede, on remarque que la première composante principale représente 93,31 % de l'écart, les deuxième et troisième représentent respectivement 4,81 % et 0,87 % de l'écart. On peut dire que 93,31 + 4,81 = 98,01 % de l'information est saisie par les première, deuxième  et troisieme composantes principales. On veut souvent ne garder que les caractéristiques significatives et laisser tomber les non significatives. Une règle empirique consiste à conserver les composantes principales supérieures qui capturent la variance significative et à ignorer les petites.\n"
   ]
  },
  {
   "cell_type": "code",
   "execution_count": 19,
   "metadata": {},
   "outputs": [
    {
     "name": "stderr",
     "output_type": "stream",
     "text": [
      "/home/djilan/anaconda3/lib/python3.6/site-packages/ipykernel_launcher.py:4: SettingWithCopyWarning: \n",
      "A value is trying to be set on a copy of a slice from a DataFrame.\n",
      "Try using .loc[row_indexer,col_indexer] = value instead\n",
      "\n",
      "See the caveats in the documentation: http://pandas.pydata.org/pandas-docs/stable/indexing.html#indexing-view-versus-copy\n",
      "  after removing the cwd from sys.path.\n"
     ]
    },
    {
     "data": {
      "text/html": [
       "<div>\n",
       "<style>\n",
       "    .dataframe thead tr:only-child th {\n",
       "        text-align: right;\n",
       "    }\n",
       "\n",
       "    .dataframe thead th {\n",
       "        text-align: left;\n",
       "    }\n",
       "\n",
       "    .dataframe tbody tr th {\n",
       "        vertical-align: top;\n",
       "    }\n",
       "</style>\n",
       "<table border=\"1\" class=\"dataframe\">\n",
       "  <thead>\n",
       "    <tr style=\"text-align: right;\">\n",
       "      <th></th>\n",
       "      <th>PC1</th>\n",
       "      <th>PC2</th>\n",
       "      <th>PC3</th>\n",
       "      <th>Target</th>\n",
       "    </tr>\n",
       "  </thead>\n",
       "  <tbody>\n",
       "    <tr>\n",
       "      <th>0</th>\n",
       "      <td>0.296177</td>\n",
       "      <td>-0.267972</td>\n",
       "      <td>-0.000517</td>\n",
       "      <td>18.50</td>\n",
       "    </tr>\n",
       "    <tr>\n",
       "      <th>1</th>\n",
       "      <td>0.477501</td>\n",
       "      <td>-0.267113</td>\n",
       "      <td>0.037474</td>\n",
       "      <td>17.56</td>\n",
       "    </tr>\n",
       "    <tr>\n",
       "      <th>2</th>\n",
       "      <td>0.573909</td>\n",
       "      <td>-0.137616</td>\n",
       "      <td>0.011708</td>\n",
       "      <td>17.56</td>\n",
       "    </tr>\n",
       "    <tr>\n",
       "      <th>3</th>\n",
       "      <td>0.382203</td>\n",
       "      <td>-0.236422</td>\n",
       "      <td>0.008755</td>\n",
       "      <td>17.64</td>\n",
       "    </tr>\n",
       "    <tr>\n",
       "      <th>4</th>\n",
       "      <td>0.844292</td>\n",
       "      <td>-0.220572</td>\n",
       "      <td>0.026406</td>\n",
       "      <td>25.64</td>\n",
       "    </tr>\n",
       "  </tbody>\n",
       "</table>\n",
       "</div>"
      ],
      "text/plain": [
       "        PC1       PC2       PC3  Target\n",
       "0  0.296177 -0.267972 -0.000517   18.50\n",
       "1  0.477501 -0.267113  0.037474   17.56\n",
       "2  0.573909 -0.137616  0.011708   17.56\n",
       "3  0.382203 -0.236422  0.008755   17.64\n",
       "4  0.844292 -0.220572  0.026406   25.64"
      ]
     },
     "execution_count": 19,
     "metadata": {},
     "output_type": "execute_result"
    }
   ],
   "source": [
    "\n",
    "#x_pca_axe=x_pca[]\n",
    "x_pca_culumn_select=x_pca[[0,1,2]]\n",
    "x_pca_culumn_select['Target']=y\n",
    "x_pca_culumn_select.columns = ['PC1','PC2','PC3','Target']\n",
    "x_pca_culumn_select.head()"
   ]
  },
  {
   "cell_type": "code",
   "execution_count": 20,
   "metadata": {},
   "outputs": [
    {
     "data": {
      "text/plain": [
       "<matplotlib.axes._subplots.AxesSubplot at 0x7f05a948c5f8>"
      ]
     },
     "execution_count": 20,
     "metadata": {},
     "output_type": "execute_result"
    },
    {
     "data": {
      "image/png": "[encoded data removed]",
      "text/plain": [
       "<Figure size 842.4x595.44 with 2 Axes>"
      ]
     },
     "metadata": {},
     "output_type": "display_data"
    }
   ],
   "source": [
    "correlation_matrix = x_pca_culumn_select.corr().round(2)\n",
    "# annot = True to print the values inside the square\n",
    "sns.heatmap(data=correlation_matrix, annot=True)"
   ]
  },
  {
   "cell_type": "markdown",
   "metadata": {},
   "source": [
    "#### On voit bien qu'il y a une correlation entre  lien linéaire entre X et Y1 d'une part, et X et Y3 d'autre part. En l'occurence, quand X augmente, en moyenne Y1 augmente aussi, et de façon linéaire (et Y3 aussi, dans une moindre mesure). On a vu au TP introductif que la faible valeur du coefficient de corrélation de Pearson entre X et Y3 est dû à une valeur aberrante (Spearman, lui, est plus robuste à cette valeur aberrante).\n",
    "\n",
    "####  Entre X et Y2 d'une part et X et Y4 d'autre part, en revanche, le lien nous semble exister, mais ne nous semble pas linéaire, ni même monotone d'ailleurs, puisqu'à la fois les coefficients de corrélation de Pearson et de Spearman sont très faibles...\n"
   ]
  },
  {
   "cell_type": "code",
   "execution_count": 21,
   "metadata": {},
   "outputs": [
    {
     "data": {
      "text/html": [
       "<div>\n",
       "<style>\n",
       "    .dataframe thead tr:only-child th {\n",
       "        text-align: right;\n",
       "    }\n",
       "\n",
       "    .dataframe thead th {\n",
       "        text-align: left;\n",
       "    }\n",
       "\n",
       "    .dataframe tbody tr th {\n",
       "        vertical-align: top;\n",
       "    }\n",
       "</style>\n",
       "<table border=\"1\" class=\"dataframe\">\n",
       "  <thead>\n",
       "    <tr style=\"text-align: right;\">\n",
       "      <th></th>\n",
       "      <th>PC1</th>\n",
       "      <th>PC2</th>\n",
       "      <th>PC3</th>\n",
       "    </tr>\n",
       "  </thead>\n",
       "  <tbody>\n",
       "    <tr>\n",
       "      <th>0</th>\n",
       "      <td>0.296177</td>\n",
       "      <td>-0.267972</td>\n",
       "      <td>-0.000517</td>\n",
       "    </tr>\n",
       "    <tr>\n",
       "      <th>1</th>\n",
       "      <td>0.477501</td>\n",
       "      <td>-0.267113</td>\n",
       "      <td>0.037474</td>\n",
       "    </tr>\n",
       "    <tr>\n",
       "      <th>2</th>\n",
       "      <td>0.573909</td>\n",
       "      <td>-0.137616</td>\n",
       "      <td>0.011708</td>\n",
       "    </tr>\n",
       "    <tr>\n",
       "      <th>3</th>\n",
       "      <td>0.382203</td>\n",
       "      <td>-0.236422</td>\n",
       "      <td>0.008755</td>\n",
       "    </tr>\n",
       "    <tr>\n",
       "      <th>4</th>\n",
       "      <td>0.844292</td>\n",
       "      <td>-0.220572</td>\n",
       "      <td>0.026406</td>\n",
       "    </tr>\n",
       "  </tbody>\n",
       "</table>\n",
       "</div>"
      ],
      "text/plain": [
       "        PC1       PC2       PC3\n",
       "0  0.296177 -0.267972 -0.000517\n",
       "1  0.477501 -0.267113  0.037474\n",
       "2  0.573909 -0.137616  0.011708\n",
       "3  0.382203 -0.236422  0.008755\n",
       "4  0.844292 -0.220572  0.026406"
      ]
     },
     "execution_count": 21,
     "metadata": {},
     "output_type": "execute_result"
    }
   ],
   "source": [
    "x_pca_culumn_select_no_target=x_pca_culumn_select.drop(['Target'], axis=1)\n",
    "x_pca_culumn_select_no_target.head()"
   ]
  },
  {
   "cell_type": "code",
   "execution_count": 22,
   "metadata": {},
   "outputs": [
    {
     "data": {
      "text/plain": [
       "LinearRegression(copy_X=True, fit_intercept=True, n_jobs=1, normalize=False)"
      ]
     },
     "execution_count": 22,
     "metadata": {},
     "output_type": "execute_result"
    }
   ],
   "source": [
    "X_train, X_test, y_train, y_test = train_test_split(x_pca_culumn_select_no_target, y, test_size=0.3, random_state=0)\n",
    "regressor = LinearRegression()  \n",
    "regressor.fit(X_train, y_train)\n",
    "y_pred = regressor.predict(X_test)\n",
    "y_pred.shape\n",
    "from sklearn.linear_model import LinearRegression\n",
    "from sklearn.metrics import mean_squared_error\n",
    "\n",
    "lin_model = LinearRegression()\n",
    "lin_model.fit(X_train, y_train)\n"
   ]
  },
  {
   "cell_type": "code",
   "execution_count": 23,
   "metadata": {},
   "outputs": [
    {
     "name": "stdout",
     "output_type": "stream",
     "text": [
      "The model performance for training set\n",
      "--------------------------------------\n",
      "RMSE is 4.798328261606489\n",
      "R2 score is 0.20766895734183866\n",
      "\n",
      "\n",
      "The model performance for testing set\n",
      "--------------------------------------\n",
      "RMSE is 4.667216490567183\n",
      "R2 score is 0.15943892612441946\n"
     ]
    }
   ],
   "source": [
    "# model evaluation for training set\n",
    "y_train_predict = lin_model.predict(X_train)\n",
    "rmse = (np.sqrt(mean_squared_error(y_train, y_train_predict)))\n",
    "r2 = r2_score(y_train, y_train_predict)\n",
    "\n",
    "print(\"The model performance for training set\")\n",
    "print(\"--------------------------------------\")\n",
    "print('RMSE is {}'.format(rmse))\n",
    "print('R2 score is {}'.format(r2))\n",
    "print(\"\\n\")\n",
    "\n",
    "# model evaluation for testing set\n",
    "y_test_predict = lin_model.predict(X_test)\n",
    "rmse = (np.sqrt(mean_squared_error(y_test, y_test_predict)))\n",
    "r2 = r2_score(y_test, y_test_predict)\n",
    "\n",
    "print(\"The model performance for testing set\")\n",
    "print(\"--------------------------------------\")\n",
    "print('RMSE is {}'.format(rmse))\n",
    "print('R2 score is {}'.format(r2))"
   ]
  },
  {
   "cell_type": "code",
   "execution_count": 24,
   "metadata": {
    "collapsed": true
   },
   "outputs": [],
   "source": [
    "X_train, X_test, y_train, y_test = train_test_split(x_pca_culumn_select_no_target, y, test_size=0.3, random_state=0)"
   ]
  },
  {
   "cell_type": "code",
   "execution_count": 25,
   "metadata": {
    "scrolled": false
   },
   "outputs": [
    {
     "name": "stderr",
     "output_type": "stream",
     "text": [
      "/home/djilan/anaconda3/lib/python3.6/site-packages/sklearn/utils/validation.py:547: DataConversionWarning: A column-vector y was passed when a 1d array was expected. Please change the shape of y to (n_samples, ), for example using ravel().\n",
      "  y = column_or_1d(y, warn=True)\n",
      "/home/djilan/anaconda3/lib/python3.6/site-packages/sklearn/utils/validation.py:547: DataConversionWarning: A column-vector y was passed when a 1d array was expected. Please change the shape of y to (n_samples, ), for example using ravel().\n",
      "  y = column_or_1d(y, warn=True)\n",
      "/home/djilan/anaconda3/lib/python3.6/site-packages/sklearn/utils/validation.py:547: DataConversionWarning: A column-vector y was passed when a 1d array was expected. Please change the shape of y to (n_samples, ), for example using ravel().\n",
      "  y = column_or_1d(y, warn=True)\n",
      "/home/djilan/anaconda3/lib/python3.6/site-packages/sklearn/utils/validation.py:547: DataConversionWarning: A column-vector y was passed when a 1d array was expected. Please change the shape of y to (n_samples, ), for example using ravel().\n",
      "  y = column_or_1d(y, warn=True)\n",
      "/home/djilan/anaconda3/lib/python3.6/site-packages/sklearn/utils/validation.py:547: DataConversionWarning: A column-vector y was passed when a 1d array was expected. Please change the shape of y to (n_samples, ), for example using ravel().\n",
      "  y = column_or_1d(y, warn=True)\n",
      "/home/djilan/anaconda3/lib/python3.6/site-packages/sklearn/utils/validation.py:547: DataConversionWarning: A column-vector y was passed when a 1d array was expected. Please change the shape of y to (n_samples, ), for example using ravel().\n",
      "  y = column_or_1d(y, warn=True)\n",
      "/home/djilan/anaconda3/lib/python3.6/site-packages/sklearn/utils/__init__.py:93: FutureWarning: Conversion of the second argument of issubdtype from `int` to `np.signedinteger` is deprecated. In future, it will be treated as `np.int64 == np.dtype(int).type`.\n",
      "  if np.issubdtype(mask.dtype, np.int):\n",
      "/home/djilan/anaconda3/lib/python3.6/site-packages/sklearn/utils/validation.py:547: DataConversionWarning: A column-vector y was passed when a 1d array was expected. Please change the shape of y to (n_samples, ), for example using ravel().\n",
      "  y = column_or_1d(y, warn=True)\n",
      "/home/djilan/anaconda3/lib/python3.6/site-packages/sklearn/utils/__init__.py:93: FutureWarning: Conversion of the second argument of issubdtype from `int` to `np.signedinteger` is deprecated. In future, it will be treated as `np.int64 == np.dtype(int).type`.\n",
      "  if np.issubdtype(mask.dtype, np.int):\n",
      "/home/djilan/anaconda3/lib/python3.6/site-packages/sklearn/utils/validation.py:547: DataConversionWarning: A column-vector y was passed when a 1d array was expected. Please change the shape of y to (n_samples, ), for example using ravel().\n",
      "  y = column_or_1d(y, warn=True)\n",
      "/home/djilan/anaconda3/lib/python3.6/site-packages/sklearn/utils/__init__.py:93: FutureWarning: Conversion of the second argument of issubdtype from `int` to `np.signedinteger` is deprecated. In future, it will be treated as `np.int64 == np.dtype(int).type`.\n",
      "  if np.issubdtype(mask.dtype, np.int):\n",
      "/home/djilan/anaconda3/lib/python3.6/site-packages/sklearn/utils/validation.py:547: DataConversionWarning: A column-vector y was passed when a 1d array was expected. Please change the shape of y to (n_samples, ), for example using ravel().\n",
      "  y = column_or_1d(y, warn=True)\n",
      "/home/djilan/anaconda3/lib/python3.6/site-packages/sklearn/utils/__init__.py:93: FutureWarning: Conversion of the second argument of issubdtype from `int` to `np.signedinteger` is deprecated. In future, it will be treated as `np.int64 == np.dtype(int).type`.\n",
      "  if np.issubdtype(mask.dtype, np.int):\n",
      "/home/djilan/anaconda3/lib/python3.6/site-packages/sklearn/utils/validation.py:547: DataConversionWarning: A column-vector y was passed when a 1d array was expected. Please change the shape of y to (n_samples, ), for example using ravel().\n",
      "  y = column_or_1d(y, warn=True)\n",
      "/home/djilan/anaconda3/lib/python3.6/site-packages/sklearn/utils/__init__.py:93: FutureWarning: Conversion of the second argument of issubdtype from `int` to `np.signedinteger` is deprecated. In future, it will be treated as `np.int64 == np.dtype(int).type`.\n",
      "  if np.issubdtype(mask.dtype, np.int):\n",
      "/home/djilan/anaconda3/lib/python3.6/site-packages/sklearn/utils/validation.py:547: DataConversionWarning: A column-vector y was passed when a 1d array was expected. Please change the shape of y to (n_samples, ), for example using ravel().\n",
      "  y = column_or_1d(y, warn=True)\n",
      "/home/djilan/anaconda3/lib/python3.6/site-packages/sklearn/utils/validation.py:547: DataConversionWarning: A column-vector y was passed when a 1d array was expected. Please change the shape of y to (n_samples, ), for example using ravel().\n",
      "  y = column_or_1d(y, warn=True)\n",
      "/home/djilan/anaconda3/lib/python3.6/site-packages/sklearn/utils/validation.py:547: DataConversionWarning: A column-vector y was passed when a 1d array was expected. Please change the shape of y to (n_samples, ), for example using ravel().\n",
      "  y = column_or_1d(y, warn=True)\n",
      "/home/djilan/anaconda3/lib/python3.6/site-packages/sklearn/utils/validation.py:547: DataConversionWarning: A column-vector y was passed when a 1d array was expected. Please change the shape of y to (n_samples, ), for example using ravel().\n",
      "  y = column_or_1d(y, warn=True)\n",
      "/home/djilan/anaconda3/lib/python3.6/site-packages/sklearn/utils/validation.py:547: DataConversionWarning: A column-vector y was passed when a 1d array was expected. Please change the shape of y to (n_samples, ), for example using ravel().\n",
      "  y = column_or_1d(y, warn=True)\n",
      "/home/djilan/anaconda3/lib/python3.6/site-packages/sklearn/model_selection/_validation.py:437: DataConversionWarning: A column-vector y was passed when a 1d array was expected. Please change the shape of y to (n_samples,), for example using ravel().\n",
      "  estimator.fit(X_train, y_train, **fit_params)\n",
      "/home/djilan/anaconda3/lib/python3.6/site-packages/sklearn/model_selection/_validation.py:437: DataConversionWarning: A column-vector y was passed when a 1d array was expected. Please change the shape of y to (n_samples,), for example using ravel().\n",
      "  estimator.fit(X_train, y_train, **fit_params)\n",
      "/home/djilan/anaconda3/lib/python3.6/site-packages/sklearn/model_selection/_validation.py:437: DataConversionWarning: A column-vector y was passed when a 1d array was expected. Please change the shape of y to (n_samples,), for example using ravel().\n",
      "  estimator.fit(X_train, y_train, **fit_params)\n",
      "/home/djilan/anaconda3/lib/python3.6/site-packages/sklearn/model_selection/_validation.py:437: DataConversionWarning: A column-vector y was passed when a 1d array was expected. Please change the shape of y to (n_samples,), for example using ravel().\n",
      "  estimator.fit(X_train, y_train, **fit_params)\n",
      "/home/djilan/anaconda3/lib/python3.6/site-packages/sklearn/model_selection/_validation.py:437: DataConversionWarning: A column-vector y was passed when a 1d array was expected. Please change the shape of y to (n_samples,), for example using ravel().\n",
      "  estimator.fit(X_train, y_train, **fit_params)\n",
      "/home/djilan/anaconda3/lib/python3.6/site-packages/sklearn/utils/validation.py:547: DataConversionWarning: A column-vector y was passed when a 1d array was expected. Please change the shape of y to (n_samples, ), for example using ravel().\n",
      "  y = column_or_1d(y, warn=True)\n",
      "/home/djilan/anaconda3/lib/python3.6/site-packages/sklearn/utils/validation.py:547: DataConversionWarning: A column-vector y was passed when a 1d array was expected. Please change the shape of y to (n_samples, ), for example using ravel().\n",
      "  y = column_or_1d(y, warn=True)\n",
      "/home/djilan/anaconda3/lib/python3.6/site-packages/sklearn/utils/validation.py:547: DataConversionWarning: A column-vector y was passed when a 1d array was expected. Please change the shape of y to (n_samples, ), for example using ravel().\n",
      "  y = column_or_1d(y, warn=True)\n",
      "/home/djilan/anaconda3/lib/python3.6/site-packages/sklearn/utils/validation.py:547: DataConversionWarning: A column-vector y was passed when a 1d array was expected. Please change the shape of y to (n_samples, ), for example using ravel().\n",
      "  y = column_or_1d(y, warn=True)\n",
      "/home/djilan/anaconda3/lib/python3.6/site-packages/sklearn/utils/validation.py:547: DataConversionWarning: A column-vector y was passed when a 1d array was expected. Please change the shape of y to (n_samples, ), for example using ravel().\n",
      "  y = column_or_1d(y, warn=True)\n",
      "/home/djilan/anaconda3/lib/python3.6/site-packages/sklearn/utils/validation.py:547: DataConversionWarning: A column-vector y was passed when a 1d array was expected. Please change the shape of y to (n_samples, ), for example using ravel().\n",
      "  y = column_or_1d(y, warn=True)\n",
      "/home/djilan/anaconda3/lib/python3.6/site-packages/sklearn/utils/validation.py:547: DataConversionWarning: A column-vector y was passed when a 1d array was expected. Please change the shape of y to (n_samples, ), for example using ravel().\n",
      "  y = column_or_1d(y, warn=True)\n",
      "/home/djilan/anaconda3/lib/python3.6/site-packages/sklearn/utils/validation.py:547: DataConversionWarning: A column-vector y was passed when a 1d array was expected. Please change the shape of y to (n_samples, ), for example using ravel().\n",
      "  y = column_or_1d(y, warn=True)\n",
      "/home/djilan/anaconda3/lib/python3.6/site-packages/sklearn/utils/validation.py:547: DataConversionWarning: A column-vector y was passed when a 1d array was expected. Please change the shape of y to (n_samples, ), for example using ravel().\n",
      "  y = column_or_1d(y, warn=True)\n",
      "/home/djilan/anaconda3/lib/python3.6/site-packages/sklearn/utils/validation.py:547: DataConversionWarning: A column-vector y was passed when a 1d array was expected. Please change the shape of y to (n_samples, ), for example using ravel().\n",
      "  y = column_or_1d(y, warn=True)\n",
      "/home/djilan/anaconda3/lib/python3.6/site-packages/sklearn/utils/validation.py:547: DataConversionWarning: A column-vector y was passed when a 1d array was expected. Please change the shape of y to (n_samples, ), for example using ravel().\n",
      "  y = column_or_1d(y, warn=True)\n",
      "/home/djilan/anaconda3/lib/python3.6/site-packages/sklearn/utils/validation.py:547: DataConversionWarning: A column-vector y was passed when a 1d array was expected. Please change the shape of y to (n_samples, ), for example using ravel().\n",
      "  y = column_or_1d(y, warn=True)\n",
      "/home/djilan/anaconda3/lib/python3.6/site-packages/sklearn/utils/validation.py:547: DataConversionWarning: A column-vector y was passed when a 1d array was expected. Please change the shape of y to (n_samples, ), for example using ravel().\n",
      "  y = column_or_1d(y, warn=True)\n",
      "/home/djilan/anaconda3/lib/python3.6/site-packages/sklearn/utils/validation.py:547: DataConversionWarning: A column-vector y was passed when a 1d array was expected. Please change the shape of y to (n_samples, ), for example using ravel().\n",
      "  y = column_or_1d(y, warn=True)\n",
      "/home/djilan/anaconda3/lib/python3.6/site-packages/sklearn/utils/validation.py:547: DataConversionWarning: A column-vector y was passed when a 1d array was expected. Please change the shape of y to (n_samples, ), for example using ravel().\n",
      "  y = column_or_1d(y, warn=True)\n"
     ]
    },
    {
     "data": {
      "text/html": [
       "<div>\n",
       "<style>\n",
       "    .dataframe thead tr:only-child th {\n",
       "        text-align: right;\n",
       "    }\n",
       "\n",
       "    .dataframe thead th {\n",
       "        text-align: left;\n",
       "    }\n",
       "\n",
       "    .dataframe tbody tr th {\n",
       "        vertical-align: top;\n",
       "    }\n",
       "</style>\n",
       "<table border=\"1\" class=\"dataframe\">\n",
       "  <thead>\n",
       "    <tr style=\"text-align: right;\">\n",
       "      <th></th>\n",
       "      <th>R Square Score</th>\n",
       "    </tr>\n",
       "  </thead>\n",
       "  <tbody>\n",
       "    <tr>\n",
       "      <th>AdaBoost</th>\n",
       "      <td>0.155982</td>\n",
       "    </tr>\n",
       "    <tr>\n",
       "      <th>Lasso</th>\n",
       "      <td>0.107964</td>\n",
       "    </tr>\n",
       "    <tr>\n",
       "      <th>Linear</th>\n",
       "      <td>0.107943</td>\n",
       "    </tr>\n",
       "    <tr>\n",
       "      <th>Hubber</th>\n",
       "      <td>0.091600</td>\n",
       "    </tr>\n",
       "    <tr>\n",
       "      <th>Ridge</th>\n",
       "      <td>0.080220</td>\n",
       "    </tr>\n",
       "    <tr>\n",
       "      <th>Bagging</th>\n",
       "      <td>0.011499</td>\n",
       "    </tr>\n",
       "    <tr>\n",
       "      <th>RandomForest</th>\n",
       "      <td>-0.019455</td>\n",
       "    </tr>\n",
       "    <tr>\n",
       "      <th>Bayesian Ridge</th>\n",
       "      <td>-0.030127</td>\n",
       "    </tr>\n",
       "    <tr>\n",
       "      <th>SVM RBF</th>\n",
       "      <td>-0.052086</td>\n",
       "    </tr>\n",
       "    <tr>\n",
       "      <th>SVM Linear</th>\n",
       "      <td>-0.054404</td>\n",
       "    </tr>\n",
       "  </tbody>\n",
       "</table>\n",
       "</div>"
      ],
      "text/plain": [
       "                R Square Score\n",
       "AdaBoost              0.155982\n",
       "Lasso                 0.107964\n",
       "Linear                0.107943\n",
       "Hubber                0.091600\n",
       "Ridge                 0.080220\n",
       "Bagging               0.011499\n",
       "RandomForest         -0.019455\n",
       "Bayesian Ridge       -0.030127\n",
       "SVM RBF              -0.052086\n",
       "SVM Linear           -0.054404"
      ]
     },
     "execution_count": 25,
     "metadata": {},
     "output_type": "execute_result"
    },
    {
     "data": {
      "image/png": "[encoded data removed]",
      "text/plain": [
       "<Figure size 842.4x595.44 with 1 Axes>"
      ]
     },
     "metadata": {},
     "output_type": "display_data"
    }
   ],
   "source": [
    "def lets_try(train,labels):\n",
    "    results={}\n",
    "    def test_model(clf):\n",
    "        \n",
    "        cv = KFold(n_splits=5,shuffle=True,random_state=45)\n",
    "        r2 = make_scorer(r2_score)\n",
    "        r2_val_score = cross_val_score(clf, train, labels, cv=cv,scoring=r2)\n",
    "        scores=[r2_val_score.mean()]\n",
    "        return scores\n",
    "\n",
    "    clf = LinearRegression()\n",
    "    results[\"Linear\"]=test_model(clf)\n",
    "    \n",
    "    clf = Ridge()\n",
    "    results[\"Ridge\"]=test_model(clf)\n",
    "    \n",
    "    clf = BayesianRidge()\n",
    "    results[\"Bayesian Ridge\"]=test_model(clf)\n",
    "    \n",
    "    clf = HuberRegressor()\n",
    "    results[\"Hubber\"]=test_model(clf)\n",
    "    \n",
    "    clf = Lasso(alpha=1e-4)\n",
    "    results[\"Lasso\"]=test_model(clf)\n",
    "    \n",
    "    clf = BaggingRegressor()\n",
    "    results[\"Bagging\"]=test_model(clf)\n",
    "    \n",
    "    clf = RandomForestRegressor()\n",
    "    results[\"RandomForest\"]=test_model(clf)\n",
    "    \n",
    "    clf = AdaBoostRegressor()\n",
    "    results[\"AdaBoost\"]=test_model(clf)\n",
    "    \n",
    "    clf = svm.SVR()\n",
    "    results[\"SVM RBF\"]=test_model(clf)\n",
    "    \n",
    "    clf = svm.SVR(kernel=\"linear\")\n",
    "    results[\"SVM Linear\"]=test_model(clf)\n",
    "    \n",
    "    results = pd.DataFrame.from_dict(results,orient='index')\n",
    "    results.columns=[\"R Square Score\"] \n",
    "    results=results.sort_values(by=\"R Square Score\",ascending=False)\n",
    "    results.plot(kind=\"bar\",title=\"Model Scores\")\n",
    "    axes = plt.gca()\n",
    "    axes.set_ylim([-0.5,1])\n",
    "    return results\n",
    "\n",
    "lets_try(X_train,y_train)"
   ]
  },
  {
   "cell_type": "markdown",
   "metadata": {},
   "source": [
    "# Interpretations"
   ]
  },
  {
   "cell_type": "markdown",
   "metadata": {},
   "source": [
    "Apres avoir essayE d'ameliorer les resultats via le pca, on constate qu'il y a ait une deterioration de la qualitE par rapport aux donnees initiales. Ceci est du au fait que par la reduction de dimension par le biais de PCA, on cherche a reduire le nombre des carcateristiques en prenant que certaines qui sont plus pertinentes et ou trouver une representation plus compacte. Mais durant notre analyse exploratoire on remarque qu'il y ait peu de difference entre les distributions de valeurs de chaque colonne. Ce qui explique nos observations apres l'experimentation (avec pca). On ne peut pas aussi se reposer sur un tres petit nombre de caracteristiques vu la dimension initiale. On peut toutefois essayer differentes approches afin d'ameliorer nos resultats tels qu'en fait une selection de caracteristiques personnalisee, etc."
   ]
  }
 ],
 "metadata": {
  "kernelspec": {
   "display_name": "Python 3",
   "language": "python",
   "name": "python3"
  },
  "language_info": {
   "codemirror_mode": {
    "name": "ipython",
    "version": 3
   },
   "file_extension": ".py",
   "mimetype": "text/x-python",
   "name": "python",
   "nbconvert_exporter": "python",
   "pygments_lexer": "ipython3",
   "version": "3.6.2"
  }
 },
 "nbformat": 4,
 "nbformat_minor": 2
}
